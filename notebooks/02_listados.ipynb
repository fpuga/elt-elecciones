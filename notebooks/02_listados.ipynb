{
 "cells": [
  {
   "cell_type": "code",
   "execution_count": null,
   "metadata": {},
   "outputs": [],
   "source": [
    "import sys\n",
    "from pathlib import Path  # noqa: F401\n",
    "\n",
    "import pandas as pd\n",
    "from IPython.core.display import HTML, Markdown  # noqa: F401\n",
    "from IPython.display import display\n",
    "\n",
    "\n",
    "# Ejemplos de uso\n",
    "# display(HTML('<h2 style=\"color:red;\">Subtitulo \"YYY - NOMBRE\"</h2>'))\n",
    "# display(Markdown(\"# Título principal\"))\n",
    "# display(HTML(df.describe().to_html()))  # muestra todos los datos\n",
    "\n",
    "pd.set_option(\"display.max_rows\", 10)  # None to show all\n",
    "\n",
    "%load_ext autoreload\n",
    "%autoreload 2\n",
    "\n",
    "# To import production code\n",
    "sys.path.append(\"../back/\")"
   ]
  },
  {
   "cell_type": "code",
   "execution_count": null,
   "metadata": {},
   "outputs": [],
   "source": [
    "# Put all imports here\n",
    "\n",
    "from myconfig import engine  # noqa: F401\n",
    "from scrapper.infoelectoral_utils import (  # noqa: F401\n",
    "    Agg,\n",
    "    Convocatoria,\n",
    "    criteria_filter,\n",
    "    extract_listado_convocatorias_por_tipo,\n",
    "    extract_tipos_convocatoria,\n",
    ")\n",
    "from scrapper.main import (  # noqa: F401\n",
    "    descargar_zips,\n",
    "    extract_listado_zips_por_convocatoria,\n",
    "    listado_a_postgres,\n",
    "    obtener_listado,\n",
    ")\n",
    "from utils.dict_utils import flat_nested_recursively"
   ]
  },
  {
   "cell_type": "code",
   "execution_count": null,
   "metadata": {},
   "outputs": [],
   "source": [
    "all_convocatorias_por_tipo = []\n",
    "for i in range(1, 8):\n",
    "    convocatoria = Convocatoria(tipo=str(i))\n",
    "    result = extract_listado_convocatorias_por_tipo(convocatoria)\n",
    "    all_convocatorias_por_tipo = [*all_convocatorias_por_tipo, *result]"
   ]
  },
  {
   "cell_type": "code",
   "execution_count": null,
   "metadata": {},
   "outputs": [],
   "source": [
    "all_convocatorias_por_zip = extract_listado_zips_por_convocatoria(Convocatoria())\n",
    "codes = {\n",
    "    f'{d[\"convocatoria\"][\"tipoConvocatoria\"]}{d[\"convocatoria\"][\"cod\"]}'\n",
    "    for d in all_convocatorias_por_zip\n",
    "}"
   ]
  },
  {
   "cell_type": "code",
   "execution_count": null,
   "metadata": {},
   "outputs": [],
   "source": [
    "mesas_zip = criteria_filter(\n",
    "    [flat_nested_recursively(r, sep=\"_\") for r in all_convocatorias_por_zip],\n",
    "    Convocatoria(agg=Agg.MESA),\n",
    ")\n",
    "mesas_zip_names = {f'{d[\"nombreDoc\"]}' for d in mesas_zip}"
   ]
  },
  {
   "cell_type": "code",
   "execution_count": null,
   "metadata": {},
   "outputs": [],
   "source": [
    "# display(all_convocatorias_por_tipo)\n",
    "display(f\"Nº de convocatorias (por tipo): {len(all_convocatorias_por_tipo)}\")  # 113\n",
    "\n",
    "# display(all_convocatorias_por_zip)\n",
    "# display(codes)\n",
    "display(f\"Nº de convocatorias (por zips): {len(codes)}\")  # 121\n",
    "\n",
    "# display(mesas_zip)\n",
    "# display(mesas_zip_names)\n",
    "# display(f\"Nº de convocatorias (por mesas): {len(mesas_zip)}\") # 111\n",
    "display(f\"Nº de convocatorias  (por mesas): {len(mesas_zip_names)}\")  # 111"
   ]
  },
  {
   "cell_type": "markdown",
   "metadata": {},
   "source": [
    "Algo falla. Tres formas de contar cuentas convocatorias tenemos y tres resultados distintos. Puede ser un error de proceso, datos de origen o interpretación de los datos."
   ]
  }
 ],
 "metadata": {
  "kernelspec": {
   "display_name": "elecciones",
   "language": "python",
   "name": "python3"
  },
  "language_info": {
   "codemirror_mode": {
    "name": "ipython",
    "version": 3
   },
   "file_extension": ".py",
   "mimetype": "text/x-python",
   "name": "python",
   "nbconvert_exporter": "python",
   "pygments_lexer": "ipython3",
   "version": "3.11.3"
  }
 },
 "nbformat": 4,
 "nbformat_minor": 2
}
