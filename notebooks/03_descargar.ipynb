{
 "cells": [
  {
   "cell_type": "code",
   "execution_count": null,
   "metadata": {},
   "outputs": [],
   "source": [
    "import sys\n",
    "from pathlib import Path  # noqa: F401\n",
    "\n",
    "import pandas as pd\n",
    "from IPython.core.display import HTML, Markdown  # noqa: F401\n",
    "from IPython.display import display  # noqa: F401\n",
    "\n",
    "\n",
    "# Ejemplos de uso\n",
    "# display(HTML('<h2 style=\"color:red;\">Subtitulo \"YYY - NOMBRE\"</h2>'))\n",
    "# display(Markdown(\"# Título principal\"))\n",
    "# display(HTML(df.describe().to_html()))  # muestra todos los datos\n",
    "\n",
    "pd.set_option(\"display.max_rows\", 10)  # None to show all\n",
    "\n",
    "%load_ext autoreload\n",
    "%autoreload 2\n",
    "\n",
    "# To import production code\n",
    "sys.path.append(\"../back/\")"
   ]
  },
  {
   "cell_type": "code",
   "execution_count": null,
   "metadata": {},
   "outputs": [],
   "source": [
    "# Put all imports here\n",
    "\n",
    "from myconfig import engine  # noqa: F401\n",
    "from scrapper.infoelectoral_utils import (  # noqa: F401\n",
    "    Agg,\n",
    "    Convocatoria,\n",
    "    criteria_filter,\n",
    "    extract_listado_convocatorias_por_tipo,\n",
    "    extract_tipos_convocatoria,\n",
    ")\n",
    "from scrapper.main import (  # noqa: F401\n",
    "    descargar_zips,\n",
    "    extract_listado_zips_por_convocatoria,\n",
    "    listado_a_postgres,\n",
    "    obtener_listado,\n",
    ")\n",
    "from utils.dict_utils import flat_nested_recursively  # noqa: F401"
   ]
  },
  {
   "cell_type": "code",
   "execution_count": null,
   "metadata": {},
   "outputs": [],
   "source": [
    "obtener_listado()\n",
    "listado_a_postgres()\n",
    "descargar_zips()"
   ]
  }
 ],
 "metadata": {
  "language_info": {
   "name": "python"
  }
 },
 "nbformat": 4,
 "nbformat_minor": 2
}
