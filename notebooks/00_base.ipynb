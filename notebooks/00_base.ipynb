{
 "cells": [
  {
   "cell_type": "code",
   "execution_count": null,
   "metadata": {},
   "outputs": [],
   "source": [
    "# Configuración básica de jupyter, pandas, ...\n",
    "\n",
    "import pandas as pd\n",
    "from IPython.core.display import HTML, Markdown  # noqa: F401\n",
    "from IPython.display import display  # noqa: F401\n",
    "\n",
    "\n",
    "# Ejemplos de uso\n",
    "# display(HTML('<h2 style=\"color:red;\">Subtitulo \"YYY - NOMBRE\"</h2>'))\n",
    "# display(Markdown(\"# Título principal\"))\n",
    "# display(HTML(df.describe().to_html()))  # muestra todos los datos\n",
    "\n",
    "\n",
    "# pd.options.mode.use_inf_as_na = True\n",
    "# http://songhuiming.github.io/pages/2017/04/02/jupyter-and-pandas-display/\n",
    "pd.set_option(\"display.max_rows\", 10)  # None to show all\n",
    "# pd.set_option('display.max_columns', 500) # None to show all\n",
    "# pd.set_option('display.width', None)\n",
    "# pd.set_option('display.max_colwidth', None)\n",
    "# pd.reset_option('display.max_rows')\n",
    "# pd.set_option(\"display.precision\", 2) # Use x decimal places in output display\n",
    "# pd.set_option(\"display.expand_frame_repr\", False) # Don't wrap repr(DataFrame) across additional lines\n",
    "\n",
    "\n",
    "# https://ipython.readthedocs.io/en/stable/config/extensions/autoreload.html\n",
    "# Si se está trabajando con módulos externos usar %autoreload 2 evita tener que\n",
    "# recargar a mano. %autoreload 0 lo desactiva\n",
    "%load_ext autoreload\n",
    "%autoreload 2"
   ]
  },
  {
   "cell_type": "code",
   "execution_count": null,
   "metadata": {},
   "outputs": [],
   "source": [
    "import sys\n",
    "\n",
    "\n",
    "# To import production code\n",
    "sys.path.append(\"../back/\")"
   ]
  },
  {
   "cell_type": "code",
   "execution_count": null,
   "metadata": {},
   "outputs": [],
   "source": [
    "# Put all imports here\n",
    "\n",
    "from myconfig import engine  # noqa: F401\n",
    "from scrapper.infoelectoral_utils import (  # noqa: F401\n",
    "    Agg,\n",
    "    Convocatoria,\n",
    "    criteria_filter,\n",
    "    extract_listado_convocatorias_por_tipo,\n",
    "    extract_tipos_convocatoria,\n",
    ")\n",
    "from scrapper.main import (  # noqa: F401\n",
    "    descargar_zips,\n",
    "    extract_listado_zips_por_convocatoria,\n",
    "    listado_a_postgres,\n",
    "    obtener_listado,\n",
    ")\n",
    "from utils.dict_utils import flat_nested_recursively  # noqa: F401"
   ]
  }
 ],
 "metadata": {
  "kernelspec": {
   "display_name": "elecciones",
   "language": "python",
   "name": "python3"
  },
  "language_info": {
   "codemirror_mode": {
    "name": "ipython",
    "version": 3
   },
   "file_extension": ".py",
   "mimetype": "text/x-python",
   "name": "python",
   "nbconvert_exporter": "python",
   "pygments_lexer": "ipython3",
   "version": "3.11.3"
  }
 },
 "nbformat": 4,
 "nbformat_minor": 2
}
