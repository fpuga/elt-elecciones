{
 "cells": [
  {
   "cell_type": "code",
   "execution_count": null,
   "id": "472f8466-593b-467d-b2d9-5678bb963503",
   "metadata": {},
   "outputs": [],
   "source": [
    "import sys\n",
    "from pathlib import Path  # noqa: F401\n",
    "\n",
    "import pandas as pd\n",
    "from IPython.core.display import HTML, Markdown  # noqa: F401\n",
    "from IPython.display import display\n",
    "\n",
    "\n",
    "# Ejemplos de uso\n",
    "# display(HTML('<h2 style=\"color:red;\">Subtitulo \"YYY - NOMBRE\"</h2>'))\n",
    "# display(Markdown(\"# Título principal\"))\n",
    "# display(HTML(df.describe().to_html()))  # muestra todos los datos\n",
    "\n",
    "pd.set_option(\"display.max_rows\", 10)  # None to show all\n",
    "\n",
    "%load_ext autoreload\n",
    "%autoreload 2\n",
    "\n",
    "\n",
    "# To import production code\n",
    "sys.path.append(\"../back/\")"
   ]
  },
  {
   "cell_type": "code",
   "execution_count": null,
   "id": "8b4b0d5f",
   "metadata": {},
   "outputs": [],
   "source": [
    "# Put all imports here\n",
    "\n",
    "from myconfig import engine  # noqa: F401\n",
    "from scrapper.infoelectoral_utils import (  # noqa: F401\n",
    "    Agg,\n",
    "    Convocatoria,\n",
    "    criteria_filter,\n",
    "    extract_listado_convocatorias_por_tipo,\n",
    "    extract_tipos_convocatoria,\n",
    ")\n",
    "from scrapper.main import (  # noqa: F401\n",
    "    descargar_zips,\n",
    "    extract_listado_zips_por_convocatoria,\n",
    "    listado_a_postgres,\n",
    "    obtener_listado,\n",
    ")\n",
    "from utils.dict_utils import flat_nested_recursively  # noqa: F401"
   ]
  },
  {
   "cell_type": "code",
   "execution_count": null,
   "id": "e62c0a25",
   "metadata": {},
   "outputs": [],
   "source": [
    "display(extract_tipos_convocatoria())"
   ]
  },
  {
   "cell_type": "code",
   "execution_count": null,
   "id": "29a845db",
   "metadata": {},
   "outputs": [],
   "source": [
    "display(extract_listado_convocatorias_por_tipo(Convocatoria(tipo=\"2\")))"
   ]
  },
  {
   "cell_type": "code",
   "execution_count": null,
   "id": "73fce992",
   "metadata": {},
   "outputs": [],
   "source": [
    "display(extract_listado_zips_por_convocatoria(Convocatoria(tipo=\"2\", id_=\"202307\")))"
   ]
  },
  {
   "cell_type": "code",
   "execution_count": null,
   "id": "47f7fe22",
   "metadata": {},
   "outputs": [],
   "source": []
  },
  {
   "cell_type": "code",
   "execution_count": null,
   "id": "cd1b349a",
   "metadata": {},
   "outputs": [],
   "source": []
  },
  {
   "cell_type": "code",
   "execution_count": null,
   "id": "ff831314",
   "metadata": {},
   "outputs": [],
   "source": []
  },
  {
   "cell_type": "code",
   "execution_count": null,
   "id": "6dc56b4b",
   "metadata": {},
   "outputs": [],
   "source": []
  },
  {
   "cell_type": "code",
   "execution_count": null,
   "id": "661eaabd",
   "metadata": {},
   "outputs": [],
   "source": []
  }
 ],
 "metadata": {
  "kernelspec": {
   "display_name": "Python 3 (ipykernel)",
   "language": "python",
   "name": "python3"
  },
  "language_info": {
   "codemirror_mode": {
    "name": "ipython",
    "version": 3
   },
   "file_extension": ".py",
   "mimetype": "text/x-python",
   "name": "python",
   "nbconvert_exporter": "python",
   "pygments_lexer": "ipython3",
   "version": "3.11.3"
  }
 },
 "nbformat": 4,
 "nbformat_minor": 5
}
